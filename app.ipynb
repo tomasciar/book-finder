{
 "cells": [
  {
   "cell_type": "markdown",
   "id": "1b3d8752-22f3-45a2-abeb-c1b11ecdd6ff",
   "metadata": {},
   "source": [
    "# Book Similarity Application\n",
    "This notebook shows how to use the book similarity application. It uses cosine similarity and genre preferences to recommend books."
   ]
  },
  {
   "cell_type": "code",
   "execution_count": null,
   "id": "5d5ad47f-9dfb-4656-828a-7a1e1ac8bf19",
   "metadata": {},
   "outputs": [],
   "source": [
    "import pandas as pd\n",
    "import numpy as np\n",
    "import matplotlib.pyplot as plt\n",
    "from data_processing import get_user_preferences, calculate_similarity\n",
    "from api import get_user_book_summaries, get_other_book_data"
   ]
  },
  {
   "cell_type": "markdown",
   "id": "962a0fc0-9c28-4be3-861f-54cbb4beb936",
   "metadata": {},
   "source": [
    "## API Access\n",
    "To make queries to the Google Books API, you must generate an API key from the Google Cloud console and input it below. Instructions on that can be found [here](https://developers.google.com/books/docs/v1/using). Binder creates a separate instance of this notebook so no one else has access to the inputted API key."
   ]
  },
  {
   "cell_type": "code",
   "execution_count": null,
   "id": "c85dc428-da34-432e-95b2-b4e3374573f6",
   "metadata": {},
   "outputs": [],
   "source": [
    "API_KEY = input()"
   ]
  },
  {
   "cell_type": "markdown",
   "id": "1cc14cb4-f0b5-4486-aa49-3125d06dd59b",
   "metadata": {},
   "source": [
    "## Load Dataset\n",
    "Loading the books data from a CSV file into a Pandas DataFrame."
   ]
  },
  {
   "cell_type": "code",
   "execution_count": null,
   "id": "db772ee1-e20b-4e30-9bea-1285a03f7705",
   "metadata": {},
   "outputs": [],
   "source": [
    "df = pd.read_csv(\"books.csv\")"
   ]
  },
  {
   "cell_type": "markdown",
   "id": "d0089c62-c49a-46d7-9ed9-a7813a712264",
   "metadata": {},
   "source": [
    "## User Preferences\n",
    "Enter your favorite books, favorite genre, and the genre you're looking to explore."
   ]
  },
  {
   "cell_type": "code",
   "execution_count": null,
   "id": "18375da0-16ad-4f96-844a-901a745210ad",
   "metadata": {},
   "outputs": [],
   "source": [
    "isbn_list, genre, genre_to_read = get_user_preferences(df)"
   ]
  },
  {
   "cell_type": "markdown",
   "id": "6460791e-ef92-43ce-b535-b049f097945f",
   "metadata": {},
   "source": [
    "## Fetch Summaries and Calculate Similarity"
   ]
  },
  {
   "cell_type": "code",
   "execution_count": null,
   "id": "bc830286-a542-469f-b761-aadb69892ce5",
   "metadata": {},
   "outputs": [],
   "source": [
    "print(f\"\\nSearching for similarities of {isbn_list} in {genre_to_read} and {genre}...\\n\")\n",
    "\n",
    "user_summaries, book_names = get_user_book_summaries(isbn_list, API_KEY)\n",
    "other_book_data = get_other_book_data(genre, genre_to_read, book_names, API_KEY)\n",
    "\n",
    "similarities = calculate_similarity(user_summaries, other_book_data)\n",
    "\n",
    "most_similar_books = np.argsort(similarities)[-3:][::-1]\n",
    "print(\"Based on genres and cosine similarity, the recommended books are:\\n\")\n",
    "\n",
    "for index in most_similar_books:\n",
    "    book = other_book_data[index]\n",
    "    print(f\"Title: {book['title']}\\n\")\n",
    "    print(f\"Summary: {book['summary']}\\n\")"
   ]
  },
  {
   "cell_type": "markdown",
   "id": "2fc53d9c-7599-4c3d-85b7-ea0240f7021f",
   "metadata": {},
   "source": [
    "## Visualize Similarities\n",
    "Visualizing the similarity scores of the recommended books."
   ]
  },
  {
   "cell_type": "code",
   "execution_count": null,
   "id": "254448a7-c485-482f-a2bd-7c84c78b46ee",
   "metadata": {},
   "outputs": [],
   "source": [
    "plt.figure(figsize=(12, 6))\n",
    "\n",
    "bar_colors = ['skyblue' if i not in most_similar_books else 'salmon' for i in range(len(similarities))]\n",
    "\n",
    "plt.bar(range(len(similarities)), similarities, color=bar_colors)\n",
    "\n",
    "plt.xlabel('Book Index')\n",
    "plt.ylabel('Cosine Similarity')\n",
    "plt.title('Book Similarities with Top 3 Highlighted')\n",
    "\n",
    "for index in most_similar_books:\n",
    "    plt.text(x=index, y=similarities[index], s=f' Top {np.where(most_similar_books==index)[0][0]+1}', \n",
    "             color='darkred', fontweight='bold', ha='center')\n",
    "\n",
    "plt.show()"
   ]
  }
 ],
 "metadata": {
  "kernelspec": {
   "display_name": "Python 3 (ipykernel)",
   "language": "python",
   "name": "python3"
  },
  "language_info": {
   "codemirror_mode": {
    "name": "ipython",
    "version": 3
   },
   "file_extension": ".py",
   "mimetype": "text/x-python",
   "name": "python",
   "nbconvert_exporter": "python",
   "pygments_lexer": "ipython3",
   "version": "3.12.0"
  }
 },
 "nbformat": 4,
 "nbformat_minor": 5
}
