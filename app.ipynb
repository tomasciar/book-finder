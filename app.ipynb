{
 "cells": [
  {
   "cell_type": "code",
   "execution_count": 11,
   "id": "92a41889-adfa-46d7-b731-fa7f29686520",
   "metadata": {},
   "outputs": [
    {
     "data": {
      "application/vnd.jupyter.widget-view+json": {
       "model_id": "01a54fada8864554a7297038b0fec7d2",
       "version_major": 2,
       "version_minor": 0
      },
      "text/plain": [
       "Select(description='Favorite Author:', layout=Layout(width='80%'), options=('J.K. Rowling/Mary GrandPré', 'J.K…"
      ]
     },
     "metadata": {},
     "output_type": "display_data"
    },
    {
     "data": {
      "application/vnd.jupyter.widget-view+json": {
       "model_id": "25f5fe8384124a2588636fd87891b04d",
       "version_major": 2,
       "version_minor": 0
      },
      "text/plain": [
       "Select(description='Favorite Book:', layout=Layout(width='auto'), options=('Harry Potter and the Half-Blood Pr…"
      ]
     },
     "metadata": {},
     "output_type": "display_data"
    },
    {
     "data": {
      "application/vnd.jupyter.widget-view+json": {
       "model_id": "76f7b3c6673c4108a3a6dbe7270ede2f",
       "version_major": 2,
       "version_minor": 0
      },
      "text/plain": [
       "Select(description='Favorite Genre:', layout=Layout(width='auto'), options=('Genre 1', 'Genre 2', 'Genre 3'), …"
      ]
     },
     "metadata": {},
     "output_type": "display_data"
    },
    {
     "data": {
      "application/vnd.jupyter.widget-view+json": {
       "model_id": "9115d08ca26741a7987e79d3068c4ddc",
       "version_major": 2,
       "version_minor": 0
      },
      "text/plain": [
       "Select(description='Genre to Read:', layout=Layout(width='auto'), options=('Genre A', 'Genre B', 'Genre C'), v…"
      ]
     },
     "metadata": {},
     "output_type": "display_data"
    },
    {
     "data": {
      "application/vnd.jupyter.widget-view+json": {
       "model_id": "ef6a508b3dd949338f66beda84f335cc",
       "version_major": 2,
       "version_minor": 0
      },
      "text/plain": [
       "Button(description='Confirm', style=ButtonStyle())"
      ]
     },
     "metadata": {},
     "output_type": "display_data"
    }
   ],
   "source": []
  },
  {
   "cell_type": "code",
   "execution_count": 10,
   "id": "080e6fb9-386f-4c32-8dbd-0e3ebee7f13c",
   "metadata": {},
   "outputs": [
    {
     "data": {
      "text/plain": [
       "'W. Frederick Zimmerman'"
      ]
     },
     "metadata": {},
     "output_type": "display_data"
    }
   ],
   "source": [
    "display(selected_author)"
   ]
  },
  {
   "cell_type": "code",
   "execution_count": null,
   "id": "0418030c-e7e7-41ae-b94c-e1ebe46270c5",
   "metadata": {},
   "outputs": [],
   "source": []
  }
 ],
 "metadata": {
  "kernelspec": {
   "display_name": "Python 3 (ipykernel)",
   "language": "python",
   "name": "python3"
  },
  "language_info": {
   "codemirror_mode": {
    "name": "ipython",
    "version": 3
   },
   "file_extension": ".py",
   "mimetype": "text/x-python",
   "name": "python",
   "nbconvert_exporter": "python",
   "pygments_lexer": "ipython3",
   "version": "3.12.0"
  }
 },
 "nbformat": 4,
 "nbformat_minor": 5
}
